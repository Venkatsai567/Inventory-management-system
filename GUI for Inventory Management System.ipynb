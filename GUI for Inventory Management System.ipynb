{
 "cells": [
  {
   "cell_type": "markdown",
   "metadata": {},
   "source": [
    "# Graphical user interface of Inventory Management System"
   ]
  },
  {
   "cell_type": "code",
   "execution_count": null,
   "metadata": {},
   "outputs": [],
   "source": [
    "'''Problem statement- A company wanted to create the database of materials where it can store the items.\n",
    "The management system consists of creating the account using the user id and password,\n",
    "creating the items with the required quantity and price, and then updating the database with the raw materilas, viewing the\n",
    "materials and deleting the specific raw materials and then logging out of the account.'''\n"
   ]
  },
  {
   "cell_type": "code",
   "execution_count": 1,
   "metadata": {},
   "outputs": [
    {
     "data": {
      "text/plain": [
       "''"
      ]
     },
     "execution_count": 1,
     "metadata": {},
     "output_type": "execute_result"
    }
   ],
   "source": [
    "from tkinter import *        #tKinter is the graphic user interface library for creating a program\n",
    "import tkinter.messagebox as tkMessageBox    #tKinter.messagebox is used to display the message boxes in the python program\n",
    "import sqlite3              #sqlite3 is the database used to store the items\n",
    "import tkinter.ttk as ttk     #styles are used using ttk\n",
    "root = Tk()                   #Tk class is used to create a window in the program\n",
    "root.title(\"Inventory Management System\")  #the title is displayed on the 1st window when it opened"
   ]
  },
  {
   "cell_type": "code",
   "execution_count": 2,
   "metadata": {},
   "outputs": [],
   "source": [
    "width = 1024       #the width for the Tk root\n",
    "height = 520      #the height of the Tk root\n",
    "screen_width = root.winfo_screenwidth()     #width of the screen\n",
    "screen_height = root.winfo_screenheight()  #height of the screen\n",
    "# calculate x and y coordinates for the Tk root window\n",
    "x = (screen_width/2) - (width/2)\n",
    "y = (screen_height/2) - (height/2)\n",
    "# set the dimensions of the screen \n",
    "# and where it is placed\n",
    "root.geometry(\"%dx%d+%d+%d\" % (width, height, x, y)) #it will truncate to integer\n",
    "root.resizable(0, 0)\n",
    "root.config(bg=\"#856ff8\") #the code is for the color"
   ]
  },
  {
   "cell_type": "markdown",
   "metadata": {},
   "source": [
    "=======================================VARIABLES========================================"
   ]
  },
  {
   "cell_type": "code",
   "execution_count": 3,
   "metadata": {},
   "outputs": [],
   "source": [
    "#variables for the list of the items\n",
    "USERNAME = StringVar()\n",
    "PASSWORD = StringVar()\n",
    "PRODUCT_NAME = StringVar()\n",
    "PRODUCT_PRICE = IntVar()\n",
    "PRODUCT_QTY = IntVar()\n",
    "SEARCH = StringVar()"
   ]
  },
  {
   "cell_type": "markdown",
   "metadata": {},
   "source": [
    "=======================================METHODS=========================================="
   ]
  },
  {
   "cell_type": "code",
   "execution_count": 4,
   "metadata": {},
   "outputs": [],
   "source": [
    "def Database():\n",
    "    global conn, cursor  \n",
    "    conn = sqlite3.connect(\"pythontut.db\")  #initialized the database and named the database as pythontut\n",
    "    cursor = conn.cursor()   #method to execute the sqlite statements\n",
    "    cursor.execute(\"CREATE TABLE IF NOT EXISTS `admin` (admin_id INTEGER PRIMARY KEY AUTOINCREMENT NOT NULL, username TEXT, password TEXT)\")\n",
    "    cursor.execute(\"CREATE TABLE IF NOT EXISTS `product` (product_id INTEGER PRIMARY KEY AUTOINCREMENT NOT NULL, product_name TEXT, product_qty TEXT, product_price TEXT)\")\n",
    "    cursor.execute(\"SELECT * FROM `admin` WHERE `username` = 'venkat' AND `password` = 'pass123'\")\n",
    "    if cursor.fetchone() is None:\n",
    "        cursor.execute(\"INSERT INTO `admin` (username, password) VALUES('venkat', 'pass123')\")\n",
    "        conn.commit()"
   ]
  },
  {
   "cell_type": "code",
   "execution_count": 5,
   "metadata": {},
   "outputs": [],
   "source": [
    "def Exit():\n",
    "    result = tkMessageBox.askquestion('Inventory Management System', 'Are you sure you want to exit?', icon=\"warning\")\n",
    "    if result == 'yes':\n",
    "        root.destroy()\n",
    "        exit()"
   ]
  },
  {
   "cell_type": "code",
   "execution_count": 6,
   "metadata": {},
   "outputs": [],
   "source": [
    "def Exit2():\n",
    "    result = tkMessageBox.askquestion('Inventory Management System', 'Are you sure you want to exit?', icon=\"warning\")\n",
    "    if result == 'yes':\n",
    "        Home.destroy()\n",
    "        exit()"
   ]
  },
  {
   "cell_type": "code",
   "execution_count": 7,
   "metadata": {},
   "outputs": [],
   "source": [
    "def ShowLoginForm():\n",
    "    global loginform\n",
    "    loginform = Toplevel()\n",
    "    loginform.title(\"Inventory Management System/Account Login\")\n",
    "    width = 600   \n",
    "    height = 500\n",
    "    screen_width = root.winfo_screenwidth()\n",
    "    screen_height = root.winfo_screenheight()\n",
    "    x = (screen_width/2) - (width/2)\n",
    "    y = (screen_height/2) - (height/2)\n",
    "    loginform.resizable(0, 0)\n",
    "    loginform.geometry(\"%dx%d+%d+%d\" % (width, height, x, y))\n",
    "    LoginForm()\n",
    "    \n",
    "def LoginForm():\n",
    "    global lbl_result\n",
    "    TopLoginForm = Frame(loginform, width=600, height=100, bd=1, relief=SOLID)\n",
    "    TopLoginForm.pack(side=TOP, pady=20)                       #pixels to pad widget\n",
    "    lbl_text = Label(TopLoginForm, text=\"Administrator Login\", font=('arial', 18), width=600)\n",
    "    lbl_text.pack(fill=X)\n",
    "    MidLoginForm = Frame(loginform, width=600)\n",
    "    MidLoginForm.pack(side=TOP, pady=50)\n",
    "    lbl_username = Label(MidLoginForm, text=\"Username:\", font=('arial', 25), bd=18)\n",
    "    lbl_username.grid(row=0)\n",
    "    lbl_password = Label(MidLoginForm, text=\"Password:\", font=('arial', 25), bd=18)\n",
    "    lbl_password.grid(row=1)\n",
    "    lbl_result = Label(MidLoginForm, text=\"\", font=('arial', 18))\n",
    "    lbl_result.grid(row=3, columnspan=2)\n",
    "    username = Entry(MidLoginForm, textvariable=USERNAME, font=('arial', 25), width=15)\n",
    "    username.grid(row=0, column=1)\n",
    "    password = Entry(MidLoginForm, textvariable=PASSWORD, font=('arial', 25), width=15, show=\"*\")\n",
    "    password.grid(row=1, column=1)\n",
    "    btn_login = Button(MidLoginForm, text=\"Login\", font=('arial', 18), width=30, command=Login)\n",
    "    btn_login.grid(row=2, columnspan=2, pady=20)\n",
    "    btn_login.bind('<Return>', Login)\n",
    "    \n",
    "def Home():\n",
    "    global Home\n",
    "    Home = Tk()\n",
    "    Home.title(\"Inventory Management System/Home\")\n",
    "    width = 1024\n",
    "    height = 520\n",
    "    screen_width = Home.winfo_screenwidth()\n",
    "    screen_height = Home.winfo_screenheight()\n",
    "    x = (screen_width/2) - (width/2)\n",
    "    y = (screen_height/2) - (height/2)\n",
    "    Home.geometry(\"%dx%d+%d+%d\" % (width, height, x, y))\n",
    "    Home.resizable(0, 0)\n",
    "    Title = Frame(Home, bd=1, relief=SOLID)\n",
    "    Title.pack(pady=10)\n",
    "    lbl_display = Label(Title, text=\"Inventory Management System\", font=('arial', 45))\n",
    "    lbl_display.pack()\n",
    "    menubar = Menu(Home)\n",
    "    filemenu = Menu(menubar, tearoff=0)\n",
    "    filemenu2 = Menu(menubar, tearoff=0)\n",
    "    filemenu.add_command(label=\"Logout\", command=Logout)\n",
    "    filemenu.add_command(label=\"Exit\", command=Exit2)\n",
    "    filemenu2.add_command(label=\"Add new\", command=ShowAddNew)\n",
    "    filemenu2.add_command(label=\"View\", command=ShowView)\n",
    "    menubar.add_cascade(label=\"Account\", menu=filemenu)\n",
    "    menubar.add_cascade(label=\"Inventory\", menu=filemenu2)\n",
    "    Home.config(menu=menubar)\n",
    "    Home.config(bg=\"#856ff8\")"
   ]
  },
  {
   "cell_type": "code",
   "execution_count": 8,
   "metadata": {},
   "outputs": [],
   "source": [
    "def ShowAddNew():\n",
    "    global addnewform\n",
    "    addnewform = Toplevel()\n",
    "    addnewform.title(\"Inventory Management System/Add new\")\n",
    "    width = 600\n",
    "    height = 500\n",
    "    screen_width = Home.winfo_screenwidth()\n",
    "    screen_height = Home.winfo_screenheight()\n",
    "    x = (screen_width/2) - (width/2)\n",
    "    y = (screen_height/2) - (height/2)\n",
    "    addnewform.geometry(\"%dx%d+%d+%d\" % (width, height, x, y))\n",
    "    addnewform.resizable(0, 0)\n",
    "    AddNewForm()"
   ]
  },
  {
   "cell_type": "code",
   "execution_count": 9,
   "metadata": {},
   "outputs": [],
   "source": [
    "def AddNewForm():\n",
    "    TopAddNew = Frame(addnewform, width=600, height=100, bd=1, relief=SOLID)\n",
    "    TopAddNew.pack(side=TOP, pady=20)\n",
    "    lbl_text = Label(TopAddNew, text=\"Add New Product\", font=('arial', 18), width=600)\n",
    "    lbl_text.pack(fill=X)\n",
    "    MidAddNew = Frame(addnewform, width=600)\n",
    "    MidAddNew.pack(side=TOP, pady=50)\n",
    "    lbl_productname = Label(MidAddNew, text=\"Product Name:\", font=('arial', 25), bd=10)\n",
    "    lbl_productname.grid(row=0, sticky=W)\n",
    "    lbl_qty = Label(MidAddNew, text=\"Product Quantity:\", font=('arial', 25), bd=10)\n",
    "    lbl_qty.grid(row=1, sticky=W)\n",
    "    lbl_price = Label(MidAddNew, text=\"Product Price:\", font=('arial', 25), bd=10)\n",
    "    lbl_price.grid(row=2, sticky=W)\n",
    "    productname = Entry(MidAddNew, textvariable=PRODUCT_NAME, font=('arial', 25), width=15)\n",
    "    productname.grid(row=0, column=1)\n",
    "    productqty = Entry(MidAddNew, textvariable=PRODUCT_QTY, font=('arial', 25), width=15)\n",
    "    productqty.grid(row=1, column=1)\n",
    "    productprice = Entry(MidAddNew, textvariable=PRODUCT_PRICE, font=('arial', 25), width=15)\n",
    "    productprice.grid(row=2, column=1)\n",
    "    btn_add = Button(MidAddNew, text=\"Save\", font=('arial', 18), width=30, bg=\"#009ACD\", command=AddNew)\n",
    "    btn_add.grid(row=3, columnspan=2, pady=20)"
   ]
  },
  {
   "cell_type": "code",
   "execution_count": 10,
   "metadata": {},
   "outputs": [],
   "source": [
    "def AddNew():\n",
    "    Database()\n",
    "    cursor.execute(\"INSERT INTO `product` (product_name, product_qty, product_price) VALUES(?, ?, ?)\", (str(PRODUCT_NAME.get()), int(PRODUCT_QTY.get()), int(PRODUCT_PRICE.get())))\n",
    "    conn.commit()\n",
    "    PRODUCT_NAME.set(\"\")\n",
    "    PRODUCT_PRICE.set(\"\")\n",
    "    PRODUCT_QTY.set(\"\")\n",
    "    cursor.close()\n",
    "    conn.close()"
   ]
  },
  {
   "cell_type": "code",
   "execution_count": 11,
   "metadata": {},
   "outputs": [],
   "source": [
    "def ViewForm():\n",
    "    global tree\n",
    "    TopViewForm = Frame(viewform, width=600, bd=1, relief=SOLID)\n",
    "    TopViewForm.pack(side=TOP, fill=X)\n",
    "    LeftViewForm = Frame(viewform, width=600)\n",
    "    LeftViewForm.pack(side=LEFT, fill=Y)\n",
    "    MidViewForm = Frame(viewform, width=600)\n",
    "    MidViewForm.pack(side=RIGHT)\n",
    "    lbl_text = Label(TopViewForm, text=\"View Products\", font=('arial', 18), width=600)\n",
    "    lbl_text.pack(fill=X)\n",
    "    lbl_txtsearch = Label(LeftViewForm, text=\"Search\", font=('arial', 15))\n",
    "    lbl_txtsearch.pack(side=TOP, anchor=W)\n",
    "    search = Entry(LeftViewForm, textvariable=SEARCH, font=('arial', 15), width=10)\n",
    "    search.pack(side=TOP,  padx=10, fill=X)\n",
    "    btn_search = Button(LeftViewForm, text=\"Search\", command=Search)\n",
    "    btn_search.pack(side=TOP, padx=10, pady=10, fill=X)\n",
    "    btn_reset = Button(LeftViewForm, text=\"Reset\", command=Reset)\n",
    "    btn_reset.pack(side=TOP, padx=10, pady=10, fill=X)\n",
    "    btn_delete = Button(LeftViewForm, text=\"Delete\", command=Delete)\n",
    "    btn_delete.pack(side=TOP, padx=10, pady=10, fill=X)\n",
    "    scrollbarx = Scrollbar(MidViewForm, orient=HORIZONTAL)\n",
    "    scrollbary = Scrollbar(MidViewForm, orient=VERTICAL)\n",
    "    tree = ttk.Treeview(MidViewForm, columns=(\"ProductID\", \"Product Name\", \"Product Qty\", \"Product Price\"), selectmode=\"extended\", height=100, yscrollcommand=scrollbary.set, xscrollcommand=scrollbarx.set)\n",
    "    scrollbary.config(command=tree.yview)\n",
    "    scrollbary.pack(side=RIGHT, fill=Y)\n",
    "    scrollbarx.config(command=tree.xview)\n",
    "    scrollbarx.pack(side=BOTTOM, fill=X)\n",
    "    tree.heading('ProductID', text=\"ProductID\",anchor=W)\n",
    "    tree.heading('Product Name', text=\"Product Name\",anchor=W)\n",
    "    tree.heading('Product Qty', text=\"Product Qty\",anchor=W)\n",
    "    tree.heading('Product Price', text=\"Product Price\",anchor=W)\n",
    "    tree.column('#0', stretch=NO, minwidth=0, width=0)\n",
    "    tree.column('#1', stretch=NO, minwidth=0, width=0)\n",
    "    tree.column('#2', stretch=NO, minwidth=0, width=200)\n",
    "    tree.column('#3', stretch=NO, minwidth=0, width=120)\n",
    "    tree.column('#4', stretch=NO, minwidth=0, width=120)\n",
    "    tree.pack()\n",
    "    DisplayData()"
   ]
  },
  {
   "cell_type": "code",
   "execution_count": 12,
   "metadata": {},
   "outputs": [],
   "source": [
    "def DisplayData():\n",
    "    Database()\n",
    "    cursor.execute(\"SELECT * FROM `product`\")\n",
    "    fetch = cursor.fetchall()\n",
    "    for data in fetch:\n",
    "        tree.insert('', 'end', values=(data))\n",
    "    cursor.close()\n",
    "    conn.close()"
   ]
  },
  {
   "cell_type": "code",
   "execution_count": 13,
   "metadata": {},
   "outputs": [],
   "source": [
    "def Search():\n",
    "    if SEARCH.get() != \"\":\n",
    "        tree.delete(*tree.get_children())\n",
    "        Database()\n",
    "        cursor.execute(\"SELECT * FROM `product` WHERE `product_name` LIKE ?\", ('%'+str(SEARCH.get())+'%',))\n",
    "        fetch = cursor.fetchall()\n",
    "        for data in fetch:\n",
    "            tree.insert('', 'end', values=(data))\n",
    "        cursor.close()\n",
    "        conn.close()"
   ]
  },
  {
   "cell_type": "code",
   "execution_count": 14,
   "metadata": {},
   "outputs": [],
   "source": [
    "def Reset():\n",
    "    tree.delete(*tree.get_children())\n",
    "    DisplayData()\n",
    "    SEARCH.set(\"\")"
   ]
  },
  {
   "cell_type": "code",
   "execution_count": 15,
   "metadata": {},
   "outputs": [],
   "source": [
    "def Delete():\n",
    "    if not tree.selection():\n",
    "       print(\"ERROR\")\n",
    "    else:\n",
    "        result = tkMessageBox.askquestion('Inventory Management System', 'Are you sure you want to delete this record?', icon=\"warning\")\n",
    "        if result == 'yes':\n",
    "            curItem = tree.focus()\n",
    "            contents =(tree.item(curItem))\n",
    "            selecteditem = contents['values']\n",
    "            tree.delete(curItem)\n",
    "            Database()\n",
    "            cursor.execute(\"DELETE FROM `product` WHERE `product_id` = %d\" % selecteditem[0])\n",
    "            conn.commit()\n",
    "            cursor.close()\n",
    "            conn.close()\n",
    "    "
   ]
  },
  {
   "cell_type": "code",
   "execution_count": 16,
   "metadata": {},
   "outputs": [],
   "source": [
    "def ShowView():\n",
    "    global viewform\n",
    "    viewform = Toplevel()\n",
    "    viewform.title(\"Inventory Management System/View Product\")\n",
    "    width = 600\n",
    "    height = 400\n",
    "    screen_width = Home.winfo_screenwidth()\n",
    "    screen_height = Home.winfo_screenheight()\n",
    "    x = (screen_width/2) - (width/2)\n",
    "    y = (screen_height/2) - (height/2)\n",
    "    viewform.geometry(\"%dx%d+%d+%d\" % (width, height, x, y))\n",
    "    viewform.resizable(0, 0)\n",
    "    ViewForm()"
   ]
  },
  {
   "cell_type": "code",
   "execution_count": 17,
   "metadata": {},
   "outputs": [],
   "source": [
    "def Logout():\n",
    "    result = tkMessageBox.askquestion('Inventory Management System', 'Are you sure you want to logout?', icon=\"warning\")\n",
    "    if result == 'yes': \n",
    "        admin_id = \"\"\n",
    "        root.deiconify()\n",
    "        Home.destroy()\n",
    "  \n",
    "def Login(event=None):\n",
    "    global admin_id\n",
    "    Database()\n",
    "    if USERNAME.get == \"\" or PASSWORD.get() == \"\":\n",
    "        lbl_result.config(text=\"Please complete the required field!\", fg=\"red\")\n",
    "    else:\n",
    "        cursor.execute(\"SELECT * FROM `admin` WHERE `username` = ? AND `password` = ?\", (USERNAME.get(), PASSWORD.get()))\n",
    "        if cursor.fetchone() is not None:\n",
    "            cursor.execute(\"SELECT * FROM `admin` WHERE `username` = ? AND `password` = ?\", (USERNAME.get(), PASSWORD.get()))\n",
    "            data = cursor.fetchone()\n",
    "            admin_id = data[0]\n",
    "            USERNAME.set(\"\")\n",
    "            PASSWORD.set(\"\")\n",
    "            lbl_result.config(text=\"\")\n",
    "            ShowHome()\n",
    "        else:\n",
    "            lbl_result.config(text=\"Invalid username or password\", fg=\"red\")\n",
    "            USERNAME.set(\"\")\n",
    "            PASSWORD.set(\"\")\n",
    "    cursor.close()\n",
    "    conn.close() "
   ]
  },
  {
   "cell_type": "code",
   "execution_count": 18,
   "metadata": {},
   "outputs": [],
   "source": [
    "def ShowHome():\n",
    "    root.withdraw()\n",
    "    Home()\n",
    "    loginform.destroy()"
   ]
  },
  {
   "cell_type": "markdown",
   "metadata": {},
   "source": [
    "=======================================MENUBAR WIDGETS=================================="
   ]
  },
  {
   "cell_type": "code",
   "execution_count": 19,
   "metadata": {},
   "outputs": [],
   "source": [
    "menubar = Menu(root)\n",
    "filemenu = Menu(menubar, tearoff=0)\n",
    "filemenu.add_command(label=\"Account\", command=ShowLoginForm)\n",
    "filemenu.add_command(label=\"Exit\", command=Exit)\n",
    "menubar.add_cascade(label=\"File\", menu=filemenu)\n",
    "root.config(menu=menubar)"
   ]
  },
  {
   "cell_type": "markdown",
   "metadata": {},
   "source": [
    "=======================================FRAME============================================"
   ]
  },
  {
   "cell_type": "code",
   "execution_count": 20,
   "metadata": {},
   "outputs": [],
   "source": [
    "Title = Frame(root, bd=1, relief=SOLID)\n",
    "Title.pack(pady=10)"
   ]
  },
  {
   "cell_type": "markdown",
   "metadata": {},
   "source": [
    "=======================================LABEL WIDGET====================================="
   ]
  },
  {
   "cell_type": "code",
   "execution_count": 21,
   "metadata": {},
   "outputs": [],
   "source": [
    "lbl_display = Label(Title, text=\"Inventory Management System\", font=('arial', 45))\n",
    "lbl_display.pack()"
   ]
  },
  {
   "cell_type": "markdown",
   "metadata": {},
   "source": [
    "=======================================INITIALIZATION==================================="
   ]
  },
  {
   "cell_type": "code",
   "execution_count": null,
   "metadata": {},
   "outputs": [],
   "source": [
    "if __name__ == '__main__':\n",
    "    root.mainloop() #starts the mainloop"
   ]
  },
  {
   "cell_type": "code",
   "execution_count": null,
   "metadata": {},
   "outputs": [],
   "source": []
  }
 ],
 "metadata": {
  "kernelspec": {
   "display_name": "Python 3",
   "language": "python",
   "name": "python3"
  },
  "language_info": {
   "codemirror_mode": {
    "name": "ipython",
    "version": 3
   },
   "file_extension": ".py",
   "mimetype": "text/x-python",
   "name": "python",
   "nbconvert_exporter": "python",
   "pygments_lexer": "ipython3",
   "version": "3.8.5"
  }
 },
 "nbformat": 4,
 "nbformat_minor": 2
}
